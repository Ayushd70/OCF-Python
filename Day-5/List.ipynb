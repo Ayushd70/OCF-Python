{
 "cells": [
  {
   "cell_type": "code",
   "execution_count": 1,
   "id": "fa3d6dd7",
   "metadata": {},
   "outputs": [],
   "source": [
    "l=('1kg peanuts', '1kg of salt')"
   ]
  },
  {
   "cell_type": "code",
   "execution_count": 2,
   "id": "cfdb16ff",
   "metadata": {},
   "outputs": [
    {
     "data": {
      "text/plain": [
       "tuple"
      ]
     },
     "execution_count": 2,
     "metadata": {},
     "output_type": "execute_result"
    }
   ],
   "source": [
    "type(l)"
   ]
  },
  {
   "cell_type": "code",
   "execution_count": 3,
   "id": "bdc53725",
   "metadata": {},
   "outputs": [],
   "source": [
    "l=['1kg peanuts', '1kg of salt']"
   ]
  },
  {
   "cell_type": "code",
   "execution_count": 4,
   "id": "13ef4986",
   "metadata": {},
   "outputs": [
    {
     "data": {
      "text/plain": [
       "list"
      ]
     },
     "execution_count": 4,
     "metadata": {},
     "output_type": "execute_result"
    }
   ],
   "source": [
    "type(l)"
   ]
  },
  {
   "cell_type": "code",
   "execution_count": 5,
   "id": "a6780868",
   "metadata": {},
   "outputs": [],
   "source": [
    "list1=[1,2,3,4,5]"
   ]
  },
  {
   "cell_type": "code",
   "execution_count": 6,
   "id": "6e2b4569",
   "metadata": {},
   "outputs": [
    {
     "name": "stdout",
     "output_type": "stream",
     "text": [
      "[1, 2, 3, 4, 5]\n"
     ]
    }
   ],
   "source": [
    "print(list1)"
   ]
  },
  {
   "cell_type": "code",
   "execution_count": 7,
   "id": "e2fdcf5a",
   "metadata": {},
   "outputs": [
    {
     "data": {
      "text/plain": [
       "2001907981952"
      ]
     },
     "execution_count": 7,
     "metadata": {},
     "output_type": "execute_result"
    }
   ],
   "source": [
    "id(list1)"
   ]
  },
  {
   "cell_type": "code",
   "execution_count": 8,
   "id": "02f369c0",
   "metadata": {},
   "outputs": [],
   "source": [
    "list1=[78,45,96,22,11,56]"
   ]
  },
  {
   "cell_type": "code",
   "execution_count": 9,
   "id": "931dc3cc",
   "metadata": {},
   "outputs": [
    {
     "data": {
      "text/plain": [
       "[78, 45, 96, 22, 11, 56]"
      ]
     },
     "execution_count": 9,
     "metadata": {},
     "output_type": "execute_result"
    }
   ],
   "source": [
    "list1"
   ]
  },
  {
   "cell_type": "code",
   "execution_count": 11,
   "id": "2b004f53",
   "metadata": {},
   "outputs": [
    {
     "data": {
      "text/plain": [
       "45"
      ]
     },
     "execution_count": 11,
     "metadata": {},
     "output_type": "execute_result"
    }
   ],
   "source": [
    "list1[1]"
   ]
  },
  {
   "cell_type": "code",
   "execution_count": 12,
   "id": "55913241",
   "metadata": {},
   "outputs": [
    {
     "data": {
      "text/plain": [
       "[45, 96, 22, 11, 56]"
      ]
     },
     "execution_count": 12,
     "metadata": {},
     "output_type": "execute_result"
    }
   ],
   "source": [
    "list1[1:]"
   ]
  },
  {
   "cell_type": "code",
   "execution_count": 13,
   "id": "9dc3e584",
   "metadata": {},
   "outputs": [
    {
     "data": {
      "text/plain": [
       "56"
      ]
     },
     "execution_count": 13,
     "metadata": {},
     "output_type": "execute_result"
    }
   ],
   "source": [
    "list1[-1]"
   ]
  },
  {
   "cell_type": "code",
   "execution_count": 14,
   "id": "24ac3461",
   "metadata": {},
   "outputs": [
    {
     "data": {
      "text/plain": [
       "11"
      ]
     },
     "execution_count": 14,
     "metadata": {},
     "output_type": "execute_result"
    }
   ],
   "source": [
    "list1[-2]"
   ]
  },
  {
   "cell_type": "code",
   "execution_count": 15,
   "id": "39996bc7",
   "metadata": {},
   "outputs": [
    {
     "data": {
      "text/plain": [
       "[78, 45, 96]"
      ]
     },
     "execution_count": 15,
     "metadata": {},
     "output_type": "execute_result"
    }
   ],
   "source": [
    "list1[:3]"
   ]
  },
  {
   "cell_type": "code",
   "execution_count": 16,
   "id": "585df931",
   "metadata": {},
   "outputs": [
    {
     "data": {
      "text/plain": [
       "[56, 11, 22, 96, 45, 78]"
      ]
     },
     "execution_count": 16,
     "metadata": {},
     "output_type": "execute_result"
    }
   ],
   "source": [
    "list1[::-1]"
   ]
  },
  {
   "cell_type": "code",
   "execution_count": 17,
   "id": "1909a8ce",
   "metadata": {},
   "outputs": [],
   "source": [
    "l1=['Rohit', 'Amey', 'Subham']"
   ]
  },
  {
   "cell_type": "code",
   "execution_count": 18,
   "id": "16444f3f",
   "metadata": {},
   "outputs": [],
   "source": [
    "l2=['Iphone', 'MI', 'Nokia']"
   ]
  },
  {
   "cell_type": "code",
   "execution_count": 19,
   "id": "76fa9b9c",
   "metadata": {},
   "outputs": [],
   "source": [
    "l3=[l1,l2]"
   ]
  },
  {
   "cell_type": "code",
   "execution_count": 20,
   "id": "6c7efbb1",
   "metadata": {},
   "outputs": [
    {
     "data": {
      "text/plain": [
       "[['Rohit', 'Amey', 'Subham'], ['Iphone', 'MI', 'Nokia']]"
      ]
     },
     "execution_count": 20,
     "metadata": {},
     "output_type": "execute_result"
    }
   ],
   "source": [
    "l3"
   ]
  },
  {
   "cell_type": "code",
   "execution_count": 21,
   "id": "92d1a324",
   "metadata": {},
   "outputs": [],
   "source": [
    "l3=[['Rohit', 'Amey', 'Subham'], ['Iphone', 'MI', 'Nokia']]"
   ]
  },
  {
   "cell_type": "code",
   "execution_count": 22,
   "id": "07f9c9b8",
   "metadata": {},
   "outputs": [
    {
     "data": {
      "text/plain": [
       "[['Rohit', 'Amey', 'Subham'], ['Iphone', 'MI', 'Nokia']]"
      ]
     },
     "execution_count": 22,
     "metadata": {},
     "output_type": "execute_result"
    }
   ],
   "source": [
    "l3"
   ]
  },
  {
   "cell_type": "code",
   "execution_count": 24,
   "id": "d4c6cd7e",
   "metadata": {},
   "outputs": [
    {
     "data": {
      "text/plain": [
       "[56, 11, 22, 96, 45, 78]"
      ]
     },
     "execution_count": 24,
     "metadata": {},
     "output_type": "execute_result"
    }
   ],
   "source": [
    "list1[::-1] #reverse the list"
   ]
  },
  {
   "cell_type": "code",
   "execution_count": 26,
   "id": "c410b1c4",
   "metadata": {},
   "outputs": [
    {
     "data": {
      "text/plain": [
       "[1, 2, 3, 4, 5, 6, 7, 8, 9, 10]"
      ]
     },
     "execution_count": 26,
     "metadata": {},
     "output_type": "execute_result"
    }
   ],
   "source": [
    "list1=[1,2,3,4,5]\n",
    "list1+[6,7,8,9,10] #concat"
   ]
  },
  {
   "cell_type": "code",
   "execution_count": 28,
   "id": "58572edd",
   "metadata": {},
   "outputs": [],
   "source": [
    "list1=[5,6,7,8]\n",
    "list1.append(9)"
   ]
  },
  {
   "cell_type": "code",
   "execution_count": 29,
   "id": "3c27ee0a",
   "metadata": {},
   "outputs": [
    {
     "data": {
      "text/plain": [
       "[5, 6, 7, 8, 9]"
      ]
     },
     "execution_count": 29,
     "metadata": {},
     "output_type": "execute_result"
    }
   ],
   "source": [
    "list1"
   ]
  },
  {
   "cell_type": "code",
   "execution_count": 30,
   "id": "c486c4cd",
   "metadata": {},
   "outputs": [],
   "source": [
    "list1.insert(1,10)"
   ]
  },
  {
   "cell_type": "code",
   "execution_count": 31,
   "id": "d95ac64d",
   "metadata": {},
   "outputs": [
    {
     "data": {
      "text/plain": [
       "[5, 10, 6, 7, 8, 9]"
      ]
     },
     "execution_count": 31,
     "metadata": {},
     "output_type": "execute_result"
    }
   ],
   "source": [
    "list1"
   ]
  },
  {
   "cell_type": "code",
   "execution_count": 33,
   "id": "a9117714",
   "metadata": {},
   "outputs": [],
   "source": [
    "list1.extend([10,11,12])"
   ]
  },
  {
   "cell_type": "code",
   "execution_count": 34,
   "id": "6416b2bc",
   "metadata": {},
   "outputs": [
    {
     "data": {
      "text/plain": [
       "[5, 10, 6, 7, 8, 9, 10, 11, 12]"
      ]
     },
     "execution_count": 34,
     "metadata": {},
     "output_type": "execute_result"
    }
   ],
   "source": [
    "list1"
   ]
  },
  {
   "cell_type": "code",
   "execution_count": 35,
   "id": "9a79d051",
   "metadata": {},
   "outputs": [],
   "source": [
    "list1=[1,2,3,4,5]"
   ]
  },
  {
   "cell_type": "code",
   "execution_count": 36,
   "id": "e27da094",
   "metadata": {},
   "outputs": [
    {
     "data": {
      "text/plain": [
       "[1, 2, 3, 4, 5]"
      ]
     },
     "execution_count": 36,
     "metadata": {},
     "output_type": "execute_result"
    }
   ],
   "source": [
    "list1"
   ]
  },
  {
   "cell_type": "code",
   "execution_count": 37,
   "id": "a4f6c262",
   "metadata": {},
   "outputs": [],
   "source": [
    "list1.clear()"
   ]
  },
  {
   "cell_type": "code",
   "execution_count": 38,
   "id": "6fa9de93",
   "metadata": {},
   "outputs": [
    {
     "data": {
      "text/plain": [
       "[]"
      ]
     },
     "execution_count": 38,
     "metadata": {},
     "output_type": "execute_result"
    }
   ],
   "source": [
    "list1"
   ]
  },
  {
   "cell_type": "code",
   "execution_count": 39,
   "id": "52ad4310",
   "metadata": {},
   "outputs": [],
   "source": [
    "list1=[1,2,3,4,55,47]"
   ]
  },
  {
   "cell_type": "code",
   "execution_count": 40,
   "id": "febf3ccf",
   "metadata": {},
   "outputs": [],
   "source": [
    "list1.remove(55)"
   ]
  },
  {
   "cell_type": "code",
   "execution_count": 41,
   "id": "dbada7fe",
   "metadata": {},
   "outputs": [
    {
     "data": {
      "text/plain": [
       "[1, 2, 3, 4, 47]"
      ]
     },
     "execution_count": 41,
     "metadata": {},
     "output_type": "execute_result"
    }
   ],
   "source": [
    "list1"
   ]
  },
  {
   "cell_type": "code",
   "execution_count": 42,
   "id": "d54c8470",
   "metadata": {},
   "outputs": [
    {
     "data": {
      "text/plain": [
       "47"
      ]
     },
     "execution_count": 42,
     "metadata": {},
     "output_type": "execute_result"
    }
   ],
   "source": [
    "list1.pop(-1)"
   ]
  },
  {
   "cell_type": "code",
   "execution_count": 43,
   "id": "a8204550",
   "metadata": {},
   "outputs": [
    {
     "data": {
      "text/plain": [
       "[1, 2, 3, 4]"
      ]
     },
     "execution_count": 43,
     "metadata": {},
     "output_type": "execute_result"
    }
   ],
   "source": [
    "list1"
   ]
  },
  {
   "cell_type": "code",
   "execution_count": 44,
   "id": "3c846a20",
   "metadata": {},
   "outputs": [
    {
     "data": {
      "text/plain": [
       "2"
      ]
     },
     "execution_count": 44,
     "metadata": {},
     "output_type": "execute_result"
    }
   ],
   "source": [
    "list1.pop(1)"
   ]
  },
  {
   "cell_type": "code",
   "execution_count": 45,
   "id": "a78fcbb7",
   "metadata": {},
   "outputs": [
    {
     "data": {
      "text/plain": [
       "[1, 3, 4]"
      ]
     },
     "execution_count": 45,
     "metadata": {},
     "output_type": "execute_result"
    }
   ],
   "source": [
    "list1"
   ]
  },
  {
   "cell_type": "code",
   "execution_count": 46,
   "id": "85bf7295",
   "metadata": {},
   "outputs": [],
   "source": [
    "list1=[45,78,155,15,15,41416,51,32,1]"
   ]
  },
  {
   "cell_type": "code",
   "execution_count": 49,
   "id": "1d71ad13",
   "metadata": {},
   "outputs": [],
   "source": [
    "del list1[2:]"
   ]
  },
  {
   "cell_type": "code",
   "execution_count": 50,
   "id": "032bde3f",
   "metadata": {},
   "outputs": [
    {
     "data": {
      "text/plain": [
       "[45, 78]"
      ]
     },
     "execution_count": 50,
     "metadata": {},
     "output_type": "execute_result"
    }
   ],
   "source": [
    "list1"
   ]
  },
  {
   "cell_type": "code",
   "execution_count": 51,
   "id": "a4ad10a2",
   "metadata": {},
   "outputs": [],
   "source": [
    "list1=[45,78,155,15,15,41416,51,32,1]"
   ]
  },
  {
   "cell_type": "code",
   "execution_count": 54,
   "id": "a32cc58d",
   "metadata": {},
   "outputs": [
    {
     "data": {
      "text/plain": [
       "1"
      ]
     },
     "execution_count": 54,
     "metadata": {},
     "output_type": "execute_result"
    }
   ],
   "source": [
    "list1.index(78)"
   ]
  },
  {
   "cell_type": "code",
   "execution_count": 55,
   "id": "dd0da1ea",
   "metadata": {},
   "outputs": [
    {
     "data": {
      "text/plain": [
       "2"
      ]
     },
     "execution_count": 55,
     "metadata": {},
     "output_type": "execute_result"
    }
   ],
   "source": [
    "list1.index(155)"
   ]
  },
  {
   "cell_type": "code",
   "execution_count": 56,
   "id": "514bffcd",
   "metadata": {},
   "outputs": [
    {
     "data": {
      "text/plain": [
       "1"
      ]
     },
     "execution_count": 56,
     "metadata": {},
     "output_type": "execute_result"
    }
   ],
   "source": [
    "list1.count(45)"
   ]
  },
  {
   "cell_type": "code",
   "execution_count": 57,
   "id": "2e91fe37",
   "metadata": {},
   "outputs": [
    {
     "data": {
      "text/plain": [
       "2"
      ]
     },
     "execution_count": 57,
     "metadata": {},
     "output_type": "execute_result"
    }
   ],
   "source": [
    "list1.count(15)"
   ]
  },
  {
   "cell_type": "code",
   "execution_count": 58,
   "id": "97f353f5",
   "metadata": {},
   "outputs": [
    {
     "data": {
      "text/plain": [
       "1"
      ]
     },
     "execution_count": 58,
     "metadata": {},
     "output_type": "execute_result"
    }
   ],
   "source": [
    "min(list1)"
   ]
  },
  {
   "cell_type": "code",
   "execution_count": 59,
   "id": "3d027446",
   "metadata": {},
   "outputs": [
    {
     "data": {
      "text/plain": [
       "41416"
      ]
     },
     "execution_count": 59,
     "metadata": {},
     "output_type": "execute_result"
    }
   ],
   "source": [
    "max(list1)"
   ]
  },
  {
   "cell_type": "code",
   "execution_count": 60,
   "id": "9b52ec2d",
   "metadata": {},
   "outputs": [],
   "source": [
    "list1.sort(reverse=True)"
   ]
  },
  {
   "cell_type": "code",
   "execution_count": 61,
   "id": "ba32d9a9",
   "metadata": {},
   "outputs": [
    {
     "data": {
      "text/plain": [
       "[41416, 155, 78, 51, 45, 32, 15, 15, 1]"
      ]
     },
     "execution_count": 61,
     "metadata": {},
     "output_type": "execute_result"
    }
   ],
   "source": [
    "list1"
   ]
  },
  {
   "cell_type": "code",
   "execution_count": 62,
   "id": "96a1bcc2",
   "metadata": {},
   "outputs": [],
   "source": [
    "list2=sorted(list1,reverse=True)"
   ]
  },
  {
   "cell_type": "code",
   "execution_count": 63,
   "id": "f6932b76",
   "metadata": {},
   "outputs": [
    {
     "data": {
      "text/plain": [
       "[41416, 155, 78, 51, 45, 32, 15, 15, 1]"
      ]
     },
     "execution_count": 63,
     "metadata": {},
     "output_type": "execute_result"
    }
   ],
   "source": [
    "list2"
   ]
  },
  {
   "cell_type": "code",
   "execution_count": 64,
   "id": "a331e248",
   "metadata": {},
   "outputs": [
    {
     "data": {
      "text/plain": [
       "[41416, 155, 78, 51, 45, 32, 15, 15, 1]"
      ]
     },
     "execution_count": 64,
     "metadata": {},
     "output_type": "execute_result"
    }
   ],
   "source": [
    "list1"
   ]
  },
  {
   "cell_type": "code",
   "execution_count": 65,
   "id": "36dcea60",
   "metadata": {},
   "outputs": [],
   "source": [
    "a=[1,2,3,4]"
   ]
  },
  {
   "cell_type": "code",
   "execution_count": 66,
   "id": "a4a4a2dc",
   "metadata": {},
   "outputs": [],
   "source": [
    "b=a"
   ]
  },
  {
   "cell_type": "code",
   "execution_count": 67,
   "id": "a7e0c1fa",
   "metadata": {},
   "outputs": [
    {
     "data": {
      "text/plain": [
       "[1, 2, 3, 4]"
      ]
     },
     "execution_count": 67,
     "metadata": {},
     "output_type": "execute_result"
    }
   ],
   "source": [
    "b"
   ]
  },
  {
   "cell_type": "code",
   "execution_count": 69,
   "id": "56418344",
   "metadata": {},
   "outputs": [],
   "source": [
    "a.remove(4)"
   ]
  },
  {
   "cell_type": "code",
   "execution_count": 70,
   "id": "c7e0f77b",
   "metadata": {},
   "outputs": [
    {
     "data": {
      "text/plain": [
       "[1, 2, 3]"
      ]
     },
     "execution_count": 70,
     "metadata": {},
     "output_type": "execute_result"
    }
   ],
   "source": [
    "b"
   ]
  },
  {
   "cell_type": "code",
   "execution_count": 71,
   "id": "df4d5344",
   "metadata": {},
   "outputs": [],
   "source": [
    "b=a.copy()"
   ]
  },
  {
   "cell_type": "code",
   "execution_count": 72,
   "id": "5da3677a",
   "metadata": {},
   "outputs": [
    {
     "data": {
      "text/plain": [
       "[1, 2, 3]"
      ]
     },
     "execution_count": 72,
     "metadata": {},
     "output_type": "execute_result"
    }
   ],
   "source": [
    "b"
   ]
  },
  {
   "cell_type": "code",
   "execution_count": 73,
   "id": "75b621c9",
   "metadata": {},
   "outputs": [],
   "source": [
    "a.remove(2)"
   ]
  },
  {
   "cell_type": "code",
   "execution_count": 74,
   "id": "ebb9cfd9",
   "metadata": {},
   "outputs": [
    {
     "data": {
      "text/plain": [
       "[1, 2, 3]"
      ]
     },
     "execution_count": 74,
     "metadata": {},
     "output_type": "execute_result"
    }
   ],
   "source": [
    "b"
   ]
  },
  {
   "cell_type": "code",
   "execution_count": 75,
   "id": "f097a35d",
   "metadata": {},
   "outputs": [],
   "source": [
    "a=[11,12,13,14]"
   ]
  },
  {
   "cell_type": "code",
   "execution_count": 76,
   "id": "adc19352",
   "metadata": {},
   "outputs": [],
   "source": [
    "b=a[:]"
   ]
  },
  {
   "cell_type": "code",
   "execution_count": 77,
   "id": "25455e0d",
   "metadata": {},
   "outputs": [],
   "source": [
    "a.remove(12)"
   ]
  },
  {
   "cell_type": "code",
   "execution_count": 78,
   "id": "5a1b95a1",
   "metadata": {},
   "outputs": [
    {
     "data": {
      "text/plain": [
       "[11, 13, 14]"
      ]
     },
     "execution_count": 78,
     "metadata": {},
     "output_type": "execute_result"
    }
   ],
   "source": [
    "a"
   ]
  },
  {
   "cell_type": "code",
   "execution_count": 79,
   "id": "d1b94046",
   "metadata": {},
   "outputs": [
    {
     "data": {
      "text/plain": [
       "[11, 12, 13, 14]"
      ]
     },
     "execution_count": 79,
     "metadata": {},
     "output_type": "execute_result"
    }
   ],
   "source": [
    "b"
   ]
  },
  {
   "cell_type": "code",
   "execution_count": 80,
   "id": "4c740f9d",
   "metadata": {},
   "outputs": [],
   "source": [
    "temp_list=1,2,3,4"
   ]
  },
  {
   "cell_type": "code",
   "execution_count": 81,
   "id": "fa6b0d6f",
   "metadata": {},
   "outputs": [
    {
     "data": {
      "text/plain": [
       "tuple"
      ]
     },
     "execution_count": 81,
     "metadata": {},
     "output_type": "execute_result"
    }
   ],
   "source": [
    "type(temp_list)"
   ]
  },
  {
   "cell_type": "code",
   "execution_count": 82,
   "id": "bc6513b6",
   "metadata": {},
   "outputs": [],
   "source": [
    "sample_tuple=1,2,3,4"
   ]
  },
  {
   "cell_type": "code",
   "execution_count": 83,
   "id": "ddbde1a2",
   "metadata": {},
   "outputs": [
    {
     "data": {
      "text/plain": [
       "1"
      ]
     },
     "execution_count": 83,
     "metadata": {},
     "output_type": "execute_result"
    }
   ],
   "source": [
    "sample_tuple[0]"
   ]
  },
  {
   "cell_type": "code",
   "execution_count": 84,
   "id": "668ebefd",
   "metadata": {},
   "outputs": [
    {
     "data": {
      "text/plain": [
       "4"
      ]
     },
     "execution_count": 84,
     "metadata": {},
     "output_type": "execute_result"
    }
   ],
   "source": [
    "len(sample_tuple)"
   ]
  },
  {
   "cell_type": "code",
   "execution_count": null,
   "id": "93322fa2",
   "metadata": {},
   "outputs": [],
   "source": []
  }
 ],
 "metadata": {
  "kernelspec": {
   "display_name": "Python 3",
   "language": "python",
   "name": "python3"
  },
  "language_info": {
   "codemirror_mode": {
    "name": "ipython",
    "version": 3
   },
   "file_extension": ".py",
   "mimetype": "text/x-python",
   "name": "python",
   "nbconvert_exporter": "python",
   "pygments_lexer": "ipython3",
   "version": "3.8.8"
  }
 },
 "nbformat": 4,
 "nbformat_minor": 5
}
