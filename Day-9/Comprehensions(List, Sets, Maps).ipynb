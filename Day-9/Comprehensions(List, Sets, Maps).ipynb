{
 "cells": [
  {
   "cell_type": "code",
   "execution_count": 1,
   "id": "7ff6dc98",
   "metadata": {},
   "outputs": [
    {
     "name": "stdout",
     "output_type": "stream",
     "text": [
      "[0, 2, 4, 6, 8, 10, 12, 14, 16, 18]\n"
     ]
    }
   ],
   "source": [
    "#even nos\n",
    "l=list(range(0,20))\n",
    "l1=[]\n",
    "for i in l:\n",
    "    if i%2==0:\n",
    "        l1.append(i)\n",
    "print(l1)"
   ]
  },
  {
   "cell_type": "code",
   "execution_count": 2,
   "id": "a15abd95",
   "metadata": {},
   "outputs": [
    {
     "name": "stdout",
     "output_type": "stream",
     "text": [
      "[0, 2, 4, 6, 8, 10, 12, 14, 16, 18]\n"
     ]
    }
   ],
   "source": [
    "#comprehension method\n",
    "l2=[i for i in l if i%2==0]\n",
    "print(l2)"
   ]
  },
  {
   "cell_type": "code",
   "execution_count": 4,
   "id": "997c69c0",
   "metadata": {},
   "outputs": [
    {
     "name": "stdout",
     "output_type": "stream",
     "text": [
      "[0, 4, 16, 36, 64, 100, 144, 196, 256, 324]\n"
     ]
    }
   ],
   "source": [
    "#squares of even number\n",
    "l3=[i*i for i in l if i%2==0]\n",
    "print(l3)"
   ]
  },
  {
   "cell_type": "code",
   "execution_count": 5,
   "id": "c638b935",
   "metadata": {},
   "outputs": [
    {
     "name": "stdout",
     "output_type": "stream",
     "text": [
      "[0, 2, 4, 6, 8, 10, 12, 14, 16, 18]\n"
     ]
    }
   ],
   "source": [
    "new_list=[i for i in range(20) if i%2==0]\n",
    "print(new_list)"
   ]
  },
  {
   "cell_type": "code",
   "execution_count": 11,
   "id": "1e9c4f86",
   "metadata": {},
   "outputs": [
    {
     "name": "stdout",
     "output_type": "stream",
     "text": [
      "[0, 'odd', 2, 'odd', 4, 'odd', 6, 'odd', 8, 'odd', 10, 'odd', 12, 'odd', 14, 'odd', 16, 'odd', 18, 'odd']\n"
     ]
    }
   ],
   "source": [
    "new_list=[i if i%2==0 else 'odd' for i in range(20)]\n",
    "print(new_list)"
   ]
  },
  {
   "cell_type": "code",
   "execution_count": 12,
   "id": "beb546cb",
   "metadata": {},
   "outputs": [
    {
     "name": "stdout",
     "output_type": "stream",
     "text": [
      "[0, 15, 30, 45]\n"
     ]
    }
   ],
   "source": [
    "l=[i for i in range(50) if i%3==0 if i%5==0]\n",
    "print(l)"
   ]
  },
  {
   "cell_type": "code",
   "execution_count": 13,
   "id": "8fc3b5ad",
   "metadata": {},
   "outputs": [],
   "source": [
    "s={1,2,3,4,5,6,7,8,9,10}"
   ]
  },
  {
   "cell_type": "code",
   "execution_count": 15,
   "id": "ee2192fd",
   "metadata": {},
   "outputs": [
    {
     "name": "stdout",
     "output_type": "stream",
     "text": [
      "{0, 2, 4, 6, 8, 10}\n",
      "{0, 64, 4, 36, 100, 16}\n",
      "{0, 36}\n"
     ]
    }
   ],
   "source": [
    "s={i for i in range(11) if i%2==0}\n",
    "print(s)\n",
    "# obtain sqaure\n",
    "s={i**2 for i in range(11) if i%2==0}\n",
    "print(s)\n",
    "#use of dual in case similar\n",
    "s={i*i for i in range(11) if i%2==0 if i%3==0}\n",
    "print(s)"
   ]
  },
  {
   "cell_type": "code",
   "execution_count": 16,
   "id": "146c82b1",
   "metadata": {},
   "outputs": [
    {
     "name": "stdout",
     "output_type": "stream",
     "text": [
      "{0: 0, 1: 1, 2: 4, 3: 9, 4: 16, 5: 25, 6: 36, 7: 49, 8: 64, 9: 81, 10: 100}\n"
     ]
    }
   ],
   "source": [
    "d={i:i*i for i in range(11)}\n",
    "print(d)"
   ]
  },
  {
   "cell_type": "code",
   "execution_count": 19,
   "id": "062f2515",
   "metadata": {},
   "outputs": [
    {
     "name": "stdout",
     "output_type": "stream",
     "text": [
      "{'benz': 4, 'honda': 5, 'maruti': 6, 'tata': 4}\n"
     ]
    }
   ],
   "source": [
    "l1=['benz', 'honda', 'maruti', 'tata']\n",
    "d={i:len(i) for i in l1}\n",
    "print(d)"
   ]
  },
  {
   "cell_type": "code",
   "execution_count": 21,
   "id": "12dad046",
   "metadata": {},
   "outputs": [
    {
     "name": "stdout",
     "output_type": "stream",
     "text": [
      "{0: 0, 1: 'odd', 2: 6, 3: 'odd', 4: 12, 5: 'odd', 6: 18, 7: 'odd', 8: 24, 9: 'odd', 10: 30, 11: 'odd', 12: 36, 13: 'odd', 14: 42, 15: 'odd', 16: 48, 17: 'odd', 18: 54, 19: 'odd'}\n"
     ]
    }
   ],
   "source": [
    "d={i:i*3 if i%2==0 else 'odd' for i in range(20)}\n",
    "print(d)"
   ]
  },
  {
   "cell_type": "code",
   "execution_count": 22,
   "id": "ef3d717f",
   "metadata": {},
   "outputs": [
    {
     "name": "stdout",
     "output_type": "stream",
     "text": [
      "{1: 'naveen', 2: 'god'}\n"
     ]
    }
   ],
   "source": [
    "d={1:'naveen', 2:'god'}\n",
    "new_d={i:j for i,j in d.items()}\n",
    "print(new_d)"
   ]
  },
  {
   "cell_type": "code",
   "execution_count": 25,
   "id": "17e4cc74",
   "metadata": {},
   "outputs": [
    {
     "name": "stdout",
     "output_type": "stream",
     "text": [
      "System: Windows\n",
      "Release: 10\n",
      "Machine: AMD64\n",
      "Node: war-machine\n",
      "processor: Intel64 Family 6 Model 58 Stepping 9, GenuineIntel\n"
     ]
    }
   ],
   "source": [
    "import platform\n",
    "system=platform.uname()\n",
    "print(f\"System: {system.system}\")\n",
    "print(f\"Release: {system.release}\")\n",
    "print(f\"Machine: {system.machine}\")\n",
    "print(f\"Node: {system.node}\")\n",
    "print(f\"processor: {system.processor}\")"
   ]
  },
  {
   "cell_type": "code",
   "execution_count": 27,
   "id": "4575ac15",
   "metadata": {},
   "outputs": [
    {
     "name": "stdout",
     "output_type": "stream",
     "text": [
      "Collecting pyqrcode\n",
      "  Downloading PyQRCode-1.2.1.zip (41 kB)\n",
      "Building wheels for collected packages: pyqrcode\n",
      "  Building wheel for pyqrcode (setup.py): started\n",
      "  Building wheel for pyqrcode (setup.py): finished with status 'done'\n",
      "  Created wheel for pyqrcode: filename=PyQRCode-1.2.1-py3-none-any.whl size=36245 sha256=4129c2a21882788ff912ed0b21233e8c67273550dee4a3fbc075e32259510b50\n",
      "  Stored in directory: c:\\users\\ayush\\appdata\\local\\pip\\cache\\wheels\\e6\\5e\\b1\\e42b38f43c94593ea57059de7e585c009c0f54e36e1a532992\n",
      "Successfully built pyqrcode\n",
      "Installing collected packages: pyqrcode\n",
      "Successfully installed pyqrcode-1.2.1\n",
      "Note: you may need to restart the kernel to use updated packages.\n"
     ]
    }
   ],
   "source": [
    "pip install pyqrcode"
   ]
  },
  {
   "cell_type": "code",
   "execution_count": 3,
   "id": "b1597898",
   "metadata": {},
   "outputs": [
    {
     "name": "stdout",
     "output_type": "stream",
     "text": [
      "Collecting pypng\n",
      "  Downloading pypng-0.0.20.tar.gz (649 kB)\n",
      "Building wheels for collected packages: pypng\n",
      "  Building wheel for pypng (setup.py): started\n",
      "  Building wheel for pypng (setup.py): finished with status 'done'\n",
      "  Created wheel for pypng: filename=pypng-0.0.20-py3-none-any.whl size=67162 sha256=2734ab12145b9c8d6a602f85d1b9865f9e6d1af6bff5141cfe96fb99003b4a8c\n",
      "  Stored in directory: c:\\users\\ayush\\appdata\\local\\pip\\cache\\wheels\\3a\\ad\\91\\4f6a5e9f3db79c28e71e7b59099dce8a75618a34ff415d44b1\n",
      "Successfully built pypng\n",
      "Installing collected packages: pypng\n",
      "Successfully installed pypng-0.0.20\n",
      "Note: you may need to restart the kernel to use updated packages.\n"
     ]
    }
   ],
   "source": [
    "pip install pypng"
   ]
  },
  {
   "cell_type": "code",
   "execution_count": 5,
   "id": "57b762e9",
   "metadata": {},
   "outputs": [
    {
     "name": "stdout",
     "output_type": "stream",
     "text": [
      "enter a link: https://avatars.githubusercontent.com/u/25736781?v=4\n",
      "Downloading.......\n",
      "Downloaded\n"
     ]
    }
   ],
   "source": [
    "import pyqrcode\n",
    "import png\n",
    "from pyqrcode import QRCode\n",
    "link=input('enter a link: ')\n",
    "print('Downloading.......')\n",
    "url=pyqrcode.create(link)\n",
    "url.svg(\"newqr.svg\", scale=10)\n",
    "url.png(\"newqr.png\", scale=10)\n",
    "print('Downloaded')"
   ]
  },
  {
   "cell_type": "code",
   "execution_count": null,
   "id": "9920cd50",
   "metadata": {},
   "outputs": [],
   "source": []
  }
 ],
 "metadata": {
  "kernelspec": {
   "display_name": "Python 3",
   "language": "python",
   "name": "python3"
  },
  "language_info": {
   "codemirror_mode": {
    "name": "ipython",
    "version": 3
   },
   "file_extension": ".py",
   "mimetype": "text/x-python",
   "name": "python",
   "nbconvert_exporter": "python",
   "pygments_lexer": "ipython3",
   "version": "3.8.8"
  }
 },
 "nbformat": 4,
 "nbformat_minor": 5
}
