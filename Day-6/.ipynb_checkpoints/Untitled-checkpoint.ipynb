{
 "cells": [
  {
   "cell_type": "code",
   "execution_count": 2,
   "id": "ddca6feb",
   "metadata": {},
   "outputs": [
    {
     "name": "stdout",
     "output_type": "stream",
     "text": [
      "{97, 7, 9, 44, 87}\n"
     ]
    }
   ],
   "source": [
    "#declaring set\n",
    "s={7,9,44,87,97}\n",
    "print(s)"
   ]
  },
  {
   "cell_type": "code",
   "execution_count": 3,
   "id": "dfcb3dac",
   "metadata": {},
   "outputs": [],
   "source": [
    "#set is unordered and no duplicate"
   ]
  },
  {
   "cell_type": "code",
   "execution_count": 5,
   "id": "38e87dd6",
   "metadata": {},
   "outputs": [
    {
     "name": "stdout",
     "output_type": "stream",
     "text": [
      "{97, 7, 9, 44, 87}\n"
     ]
    }
   ],
   "source": [
    "s={7,9,44,87,97,97} #no duplicate\n",
    "print(s)"
   ]
  },
  {
   "cell_type": "code",
   "execution_count": 7,
   "id": "1a227ca6",
   "metadata": {},
   "outputs": [
    {
     "data": {
      "text/plain": [
       "5"
      ]
     },
     "execution_count": 7,
     "metadata": {},
     "output_type": "execute_result"
    }
   ],
   "source": [
    "len(s) # len of the set"
   ]
  },
  {
   "cell_type": "code",
   "execution_count": 8,
   "id": "0a8c52f4",
   "metadata": {},
   "outputs": [],
   "source": [
    "#no idexing and slicing since unordered set"
   ]
  },
  {
   "cell_type": "code",
   "execution_count": 9,
   "id": "e62499ee",
   "metadata": {},
   "outputs": [],
   "source": [
    "# set is mutable"
   ]
  },
  {
   "cell_type": "code",
   "execution_count": 12,
   "id": "b4b27789",
   "metadata": {},
   "outputs": [
    {
     "name": "stdout",
     "output_type": "stream",
     "text": [
      "{32, 1, 2, 3, 4, 5}\n"
     ]
    }
   ],
   "source": [
    "s={1,2,3,4,5}\n",
    "s.add(32)\n",
    "print(s)"
   ]
  },
  {
   "cell_type": "code",
   "execution_count": null,
   "id": "777d651b",
   "metadata": {},
   "outputs": [],
   "source": []
  }
 ],
 "metadata": {
  "kernelspec": {
   "display_name": "Python 3",
   "language": "python",
   "name": "python3"
  },
  "language_info": {
   "codemirror_mode": {
    "name": "ipython",
    "version": 3
   },
   "file_extension": ".py",
   "mimetype": "text/x-python",
   "name": "python",
   "nbconvert_exporter": "python",
   "pygments_lexer": "ipython3",
   "version": "3.8.8"
  }
 },
 "nbformat": 4,
 "nbformat_minor": 5
}
