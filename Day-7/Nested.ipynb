{
 "cells": [
  {
   "cell_type": "raw",
   "id": "ade82846",
   "metadata": {},
   "source": [
    "Syntax\n",
    "\n",
    "if codn:\n",
    "    if codn2:\n",
    "        lines of codes\n",
    "     else:\n",
    "         lines of codes\n",
    "else:\n",
    "    if codn:\n",
    "         lines of codes\n",
    "     else:\n",
    "         lines of codes"
   ]
  },
  {
   "cell_type": "code",
   "execution_count": 2,
   "id": "9bdc77a9",
   "metadata": {},
   "outputs": [
    {
     "name": "stdout",
     "output_type": "stream",
     "text": [
      "enter 3nos separated by comma: 4,5,6\n",
      "6 is the largest\n"
     ]
    }
   ],
   "source": [
    "# find the largest out of 3 using nested if else\n",
    "\n",
    "a,b,c=input(\"enter 3nos separated by comma: \").split(',')\n",
    "a=int(a)\n",
    "b=int(b)\n",
    "c=int(c)\n",
    "\n",
    "#nested if else\n",
    "if a>b:\n",
    "    if a>c:\n",
    "        print(a, \"is the largest\")\n",
    "    else:\n",
    "        print(c, \"is the largest\")\n",
    "else:\n",
    "    if b>c:\n",
    "        print(b, \"is the largest\")\n",
    "    else:\n",
    "        print(c, \"is the largest\")"
   ]
  },
  {
   "cell_type": "raw",
   "id": "612cf72a",
   "metadata": {},
   "source": [
    "iteration\n",
    "\n",
    "case1: 8,6,5\n",
    "a>b\n",
    "a>c\n",
    "case2: 8,7,9\n",
    "a>b\n",
    "c>a>b"
   ]
  },
  {
   "cell_type": "code",
   "execution_count": 8,
   "id": "076ce029",
   "metadata": {},
   "outputs": [
    {
     "name": "stdout",
     "output_type": "stream",
     "text": [
      "enter the number to check: 15\n",
      "15 is divisible by both\n"
     ]
    }
   ],
   "source": [
    "#check if the given no is divisble by 3 or 5 or both or none\n",
    "num=int(input(\"enter the number to check: \"))\n",
    "if num%3==0:\n",
    "    if num%5==0:\n",
    "        print(num, \"is divisible by both\")\n",
    "    else:\n",
    "        print(num, \"is only divisible by 3\")\n",
    "else:\n",
    "    if num%5==0:\n",
    "        print(num, \"is divisible by 5\")\n",
    "    else: \n",
    "        print(num, \"is not divisible by both\")"
   ]
  },
  {
   "cell_type": "code",
   "execution_count": 10,
   "id": "4151c4bd",
   "metadata": {},
   "outputs": [
    {
     "name": "stdout",
     "output_type": "stream",
     "text": [
      "hello world\n",
      "\n",
      "hello world\n",
      "\n",
      "hello world\n",
      "\n",
      "hello world\n",
      "\n",
      "hello world\n",
      "\n",
      "hello world\n",
      "\n",
      "hello world\n",
      "\n",
      "hello world\n",
      "\n",
      "hello world\n",
      "\n",
      "hello world\n",
      "\n"
     ]
    }
   ],
   "source": [
    "i=1\n",
    "while(i<=10):\n",
    "    print(\"hello world\\n\")\n",
    "    i+=1"
   ]
  },
  {
   "cell_type": "code",
   "execution_count": null,
   "id": "2387b647",
   "metadata": {},
   "outputs": [],
   "source": []
  }
 ],
 "metadata": {
  "kernelspec": {
   "display_name": "Python 3",
   "language": "python",
   "name": "python3"
  },
  "language_info": {
   "codemirror_mode": {
    "name": "ipython",
    "version": 3
   },
   "file_extension": ".py",
   "mimetype": "text/x-python",
   "name": "python",
   "nbconvert_exporter": "python",
   "pygments_lexer": "ipython3",
   "version": "3.8.8"
  }
 },
 "nbformat": 4,
 "nbformat_minor": 5
}
