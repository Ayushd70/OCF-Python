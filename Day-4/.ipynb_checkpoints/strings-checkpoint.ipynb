{
 "cells": [
  {
   "cell_type": "code",
   "execution_count": 1,
   "id": "b86b839b",
   "metadata": {},
   "outputs": [],
   "source": [
    "s='Laptop'"
   ]
  },
  {
   "cell_type": "code",
   "execution_count": 2,
   "id": "b026973d",
   "metadata": {},
   "outputs": [
    {
     "data": {
      "text/plain": [
       "'Laptop'"
      ]
     },
     "execution_count": 2,
     "metadata": {},
     "output_type": "execute_result"
    }
   ],
   "source": [
    "s"
   ]
  },
  {
   "cell_type": "code",
   "execution_count": 3,
   "id": "437b978c",
   "metadata": {},
   "outputs": [],
   "source": [
    "s='''hello'''"
   ]
  },
  {
   "cell_type": "code",
   "execution_count": 4,
   "id": "b2102d2f",
   "metadata": {},
   "outputs": [
    {
     "data": {
      "text/plain": [
       "'hello'"
      ]
     },
     "execution_count": 4,
     "metadata": {},
     "output_type": "execute_result"
    }
   ],
   "source": [
    "s"
   ]
  },
  {
   "cell_type": "code",
   "execution_count": 6,
   "id": "34eac5e3",
   "metadata": {},
   "outputs": [
    {
     "data": {
      "text/plain": [
       "'rohit Rohit'"
      ]
     },
     "execution_count": 6,
     "metadata": {},
     "output_type": "execute_result"
    }
   ],
   "source": [
    "'rohit'+' '+'Rohit'"
   ]
  },
  {
   "cell_type": "code",
   "execution_count": 7,
   "id": "09667afd",
   "metadata": {},
   "outputs": [
    {
     "name": "stdout",
     "output_type": "stream",
     "text": [
      "Rohit\n",
      "Hi\n"
     ]
    }
   ],
   "source": [
    "print('Rohit\\nHi')"
   ]
  },
  {
   "cell_type": "code",
   "execution_count": 8,
   "id": "267fb5cf",
   "metadata": {},
   "outputs": [
    {
     "name": "stdout",
     "output_type": "stream",
     "text": [
      "Rohit\tHi\n"
     ]
    }
   ],
   "source": [
    "print('Rohit\\tHi')"
   ]
  },
  {
   "cell_type": "code",
   "execution_count": 9,
   "id": "c0b53cb1",
   "metadata": {},
   "outputs": [
    {
     "name": "stdout",
     "output_type": "stream",
     "text": [
      "c:docs\n",
      "ew\n"
     ]
    }
   ],
   "source": [
    "print('c:docs\\new')"
   ]
  },
  {
   "cell_type": "code",
   "execution_count": 10,
   "id": "a9775097",
   "metadata": {},
   "outputs": [
    {
     "name": "stdout",
     "output_type": "stream",
     "text": [
      "c:docs\\new\n"
     ]
    }
   ],
   "source": [
    "print(r'c:docs\\new')"
   ]
  },
  {
   "cell_type": "code",
   "execution_count": 11,
   "id": "fd9c6f92",
   "metadata": {},
   "outputs": [],
   "source": [
    "s='Pailwan'"
   ]
  },
  {
   "cell_type": "code",
   "execution_count": 12,
   "id": "6de6db3c",
   "metadata": {},
   "outputs": [
    {
     "data": {
      "text/plain": [
       "'Pailwan'"
      ]
     },
     "execution_count": 12,
     "metadata": {},
     "output_type": "execute_result"
    }
   ],
   "source": [
    "s"
   ]
  },
  {
   "cell_type": "code",
   "execution_count": 15,
   "id": "6f0c2c29",
   "metadata": {},
   "outputs": [
    {
     "data": {
      "text/plain": [
       "'P'"
      ]
     },
     "execution_count": 15,
     "metadata": {},
     "output_type": "execute_result"
    }
   ],
   "source": [
    "s='Pailwan'\n",
    "s[0]"
   ]
  },
  {
   "cell_type": "code",
   "execution_count": 16,
   "id": "430349a1",
   "metadata": {},
   "outputs": [
    {
     "data": {
      "text/plain": [
       "'a'"
      ]
     },
     "execution_count": 16,
     "metadata": {},
     "output_type": "execute_result"
    }
   ],
   "source": [
    "s[1]"
   ]
  },
  {
   "cell_type": "code",
   "execution_count": 17,
   "id": "9bdc655c",
   "metadata": {},
   "outputs": [
    {
     "data": {
      "text/plain": [
       "'w'"
      ]
     },
     "execution_count": 17,
     "metadata": {},
     "output_type": "execute_result"
    }
   ],
   "source": [
    "s[4]"
   ]
  },
  {
   "cell_type": "code",
   "execution_count": 18,
   "id": "13619eca",
   "metadata": {},
   "outputs": [
    {
     "data": {
      "text/plain": [
       "'n'"
      ]
     },
     "execution_count": 18,
     "metadata": {},
     "output_type": "execute_result"
    }
   ],
   "source": [
    "s[-1]"
   ]
  },
  {
   "cell_type": "code",
   "execution_count": 19,
   "id": "7797460b",
   "metadata": {},
   "outputs": [
    {
     "data": {
      "text/plain": [
       "'l'"
      ]
     },
     "execution_count": 19,
     "metadata": {},
     "output_type": "execute_result"
    }
   ],
   "source": [
    "s[-4]"
   ]
  },
  {
   "cell_type": "code",
   "execution_count": 20,
   "id": "3c0ed012",
   "metadata": {},
   "outputs": [
    {
     "data": {
      "text/plain": [
       "'w'"
      ]
     },
     "execution_count": 20,
     "metadata": {},
     "output_type": "execute_result"
    }
   ],
   "source": [
    "s[-3]"
   ]
  },
  {
   "cell_type": "code",
   "execution_count": 21,
   "id": "093756e0",
   "metadata": {},
   "outputs": [],
   "source": [
    "s='Old is Gold'"
   ]
  },
  {
   "cell_type": "code",
   "execution_count": 22,
   "id": "58638700",
   "metadata": {},
   "outputs": [
    {
     "data": {
      "text/plain": [
       "'Old'"
      ]
     },
     "execution_count": 22,
     "metadata": {},
     "output_type": "execute_result"
    }
   ],
   "source": [
    "s[0:3]"
   ]
  },
  {
   "cell_type": "code",
   "execution_count": 23,
   "id": "353085f9",
   "metadata": {},
   "outputs": [
    {
     "data": {
      "text/plain": [
       "'is'"
      ]
     },
     "execution_count": 23,
     "metadata": {},
     "output_type": "execute_result"
    }
   ],
   "source": [
    "s[4:6]"
   ]
  },
  {
   "cell_type": "code",
   "execution_count": 24,
   "id": "92adda93",
   "metadata": {},
   "outputs": [
    {
     "data": {
      "text/plain": [
       "'Gold'"
      ]
     },
     "execution_count": 24,
     "metadata": {},
     "output_type": "execute_result"
    }
   ],
   "source": [
    "s[7:11]"
   ]
  },
  {
   "cell_type": "code",
   "execution_count": 25,
   "id": "6ccef9dd",
   "metadata": {},
   "outputs": [
    {
     "data": {
      "text/plain": [
       "'old'"
      ]
     },
     "execution_count": 25,
     "metadata": {},
     "output_type": "execute_result"
    }
   ],
   "source": [
    "s[8:]"
   ]
  },
  {
   "cell_type": "code",
   "execution_count": 26,
   "id": "25dd5b91",
   "metadata": {},
   "outputs": [
    {
     "data": {
      "text/plain": [
       "'is Gold'"
      ]
     },
     "execution_count": 26,
     "metadata": {},
     "output_type": "execute_result"
    }
   ],
   "source": [
    "s[4:]"
   ]
  },
  {
   "cell_type": "code",
   "execution_count": 27,
   "id": "2ba973f9",
   "metadata": {},
   "outputs": [
    {
     "data": {
      "text/plain": [
       "'Old'"
      ]
     },
     "execution_count": 27,
     "metadata": {},
     "output_type": "execute_result"
    }
   ],
   "source": [
    "s[:3]"
   ]
  },
  {
   "cell_type": "code",
   "execution_count": 28,
   "id": "3ded07bf",
   "metadata": {},
   "outputs": [
    {
     "data": {
      "text/plain": [
       "'Old is Gold'"
      ]
     },
     "execution_count": 28,
     "metadata": {},
     "output_type": "execute_result"
    }
   ],
   "source": [
    "s[:]"
   ]
  },
  {
   "cell_type": "code",
   "execution_count": 29,
   "id": "afc0c82b",
   "metadata": {},
   "outputs": [
    {
     "data": {
      "text/plain": [
       "'ld'"
      ]
     },
     "execution_count": 29,
     "metadata": {},
     "output_type": "execute_result"
    }
   ],
   "source": [
    "s[1:3]"
   ]
  },
  {
   "cell_type": "code",
   "execution_count": 30,
   "id": "d4ddaed9",
   "metadata": {},
   "outputs": [
    {
     "data": {
      "text/plain": [
       "'l'"
      ]
     },
     "execution_count": 30,
     "metadata": {},
     "output_type": "execute_result"
    }
   ],
   "source": [
    "s[1:2]"
   ]
  },
  {
   "cell_type": "code",
   "execution_count": 31,
   "id": "055e687b",
   "metadata": {},
   "outputs": [],
   "source": [
    "s='rohit amey raj atharva krushna shubham swami abhishek'"
   ]
  },
  {
   "cell_type": "code",
   "execution_count": 32,
   "id": "3a47abff",
   "metadata": {},
   "outputs": [
    {
     "data": {
      "text/plain": [
       "True"
      ]
     },
     "execution_count": 32,
     "metadata": {},
     "output_type": "execute_result"
    }
   ],
   "source": [
    "'shubham' in s"
   ]
  },
  {
   "cell_type": "code",
   "execution_count": 33,
   "id": "75404808",
   "metadata": {},
   "outputs": [
    {
     "data": {
      "text/plain": [
       "False"
      ]
     },
     "execution_count": 33,
     "metadata": {},
     "output_type": "execute_result"
    }
   ],
   "source": [
    "'gaurav' in s"
   ]
  },
  {
   "cell_type": "code",
   "execution_count": 34,
   "id": "9d5e3f4f",
   "metadata": {},
   "outputs": [
    {
     "data": {
      "text/plain": [
       "False"
      ]
     },
     "execution_count": 34,
     "metadata": {},
     "output_type": "execute_result"
    }
   ],
   "source": [
    "'Amey' in s"
   ]
  },
  {
   "cell_type": "code",
   "execution_count": 36,
   "id": "81ac191d",
   "metadata": {},
   "outputs": [
    {
     "data": {
      "text/plain": [
       "'Ocf education'"
      ]
     },
     "execution_count": 36,
     "metadata": {},
     "output_type": "execute_result"
    }
   ],
   "source": [
    "s='ocf education'\n",
    "s.capitalize()"
   ]
  },
  {
   "cell_type": "code",
   "execution_count": 37,
   "id": "82b34b70",
   "metadata": {},
   "outputs": [
    {
     "data": {
      "text/plain": [
       "'Ocf Education'"
      ]
     },
     "execution_count": 37,
     "metadata": {},
     "output_type": "execute_result"
    }
   ],
   "source": [
    "s.title()"
   ]
  },
  {
   "cell_type": "code",
   "execution_count": 38,
   "id": "e659ba87",
   "metadata": {},
   "outputs": [],
   "source": [
    "s='OCF EDUCATION'"
   ]
  },
  {
   "cell_type": "code",
   "execution_count": 39,
   "id": "ab75c8e2",
   "metadata": {},
   "outputs": [
    {
     "data": {
      "text/plain": [
       "'ocf education'"
      ]
     },
     "execution_count": 39,
     "metadata": {},
     "output_type": "execute_result"
    }
   ],
   "source": [
    "s.casefold()"
   ]
  },
  {
   "cell_type": "code",
   "execution_count": 40,
   "id": "5c43fa43",
   "metadata": {},
   "outputs": [
    {
     "data": {
      "text/plain": [
       "'OCF EDUCATION'"
      ]
     },
     "execution_count": 40,
     "metadata": {},
     "output_type": "execute_result"
    }
   ],
   "source": [
    "s"
   ]
  },
  {
   "cell_type": "code",
   "execution_count": 41,
   "id": "fc03fabb",
   "metadata": {},
   "outputs": [
    {
     "data": {
      "text/plain": [
       "'ocf education'"
      ]
     },
     "execution_count": 41,
     "metadata": {},
     "output_type": "execute_result"
    }
   ],
   "source": [
    "s.lower()"
   ]
  },
  {
   "cell_type": "code",
   "execution_count": 42,
   "id": "1c867453",
   "metadata": {},
   "outputs": [],
   "source": [
    "s='   OCF EDUCATION   '"
   ]
  },
  {
   "cell_type": "code",
   "execution_count": 44,
   "id": "0e6f1d26",
   "metadata": {},
   "outputs": [
    {
     "data": {
      "text/plain": [
       "'   OCF EDUCATION   '"
      ]
     },
     "execution_count": 44,
     "metadata": {},
     "output_type": "execute_result"
    }
   ],
   "source": [
    "s.center(10)"
   ]
  },
  {
   "cell_type": "code",
   "execution_count": 46,
   "id": "ef3e53cf",
   "metadata": {},
   "outputs": [
    {
     "data": {
      "text/plain": [
       "2"
      ]
     },
     "execution_count": 46,
     "metadata": {},
     "output_type": "execute_result"
    }
   ],
   "source": [
    "s.count('O')"
   ]
  },
  {
   "cell_type": "code",
   "execution_count": 47,
   "id": "32a8eb41",
   "metadata": {},
   "outputs": [
    {
     "data": {
      "text/plain": [
       "0"
      ]
     },
     "execution_count": 47,
     "metadata": {},
     "output_type": "execute_result"
    }
   ],
   "source": [
    "s.count('o') #case sensitive"
   ]
  },
  {
   "cell_type": "code",
   "execution_count": 48,
   "id": "78e8d27f",
   "metadata": {},
   "outputs": [
    {
     "data": {
      "text/plain": [
       "1"
      ]
     },
     "execution_count": 48,
     "metadata": {},
     "output_type": "execute_result"
    }
   ],
   "source": [
    "s.count('D')"
   ]
  },
  {
   "cell_type": "code",
   "execution_count": 49,
   "id": "f665cb1b",
   "metadata": {},
   "outputs": [
    {
     "data": {
      "text/plain": [
       "b'   OCF EDUCATION   '"
      ]
     },
     "execution_count": 49,
     "metadata": {},
     "output_type": "execute_result"
    }
   ],
   "source": [
    "s.encode()"
   ]
  },
  {
   "cell_type": "code",
   "execution_count": 50,
   "id": "825468bd",
   "metadata": {},
   "outputs": [],
   "source": [
    "s='OCF EDUCATION'"
   ]
  },
  {
   "cell_type": "code",
   "execution_count": 51,
   "id": "882eb526",
   "metadata": {},
   "outputs": [
    {
     "data": {
      "text/plain": [
       "'Ocf Education'"
      ]
     },
     "execution_count": 51,
     "metadata": {},
     "output_type": "execute_result"
    }
   ],
   "source": [
    "s.title()"
   ]
  },
  {
   "cell_type": "code",
   "execution_count": 58,
   "id": "46079925",
   "metadata": {},
   "outputs": [
    {
     "data": {
      "text/plain": [
       "5"
      ]
     },
     "execution_count": 58,
     "metadata": {},
     "output_type": "execute_result"
    }
   ],
   "source": [
    "s.find('D')"
   ]
  },
  {
   "cell_type": "code",
   "execution_count": 59,
   "id": "44c49027",
   "metadata": {},
   "outputs": [
    {
     "data": {
      "text/plain": [
       "0"
      ]
     },
     "execution_count": 59,
     "metadata": {},
     "output_type": "execute_result"
    }
   ],
   "source": [
    "s.find('O')"
   ]
  },
  {
   "cell_type": "code",
   "execution_count": 60,
   "id": "efcbeb4b",
   "metadata": {},
   "outputs": [
    {
     "data": {
      "text/plain": [
       "False"
      ]
     },
     "execution_count": 60,
     "metadata": {},
     "output_type": "execute_result"
    }
   ],
   "source": [
    "s.endswith(\"Education\")"
   ]
  },
  {
   "cell_type": "code",
   "execution_count": 61,
   "id": "56495dd4",
   "metadata": {},
   "outputs": [
    {
     "data": {
      "text/plain": [
       "'OCF EDUCATION'"
      ]
     },
     "execution_count": 61,
     "metadata": {},
     "output_type": "execute_result"
    }
   ],
   "source": [
    "s"
   ]
  },
  {
   "cell_type": "code",
   "execution_count": 62,
   "id": "01be789b",
   "metadata": {},
   "outputs": [
    {
     "data": {
      "text/plain": [
       "True"
      ]
     },
     "execution_count": 62,
     "metadata": {},
     "output_type": "execute_result"
    }
   ],
   "source": [
    "s.endswith('EDUCATION')"
   ]
  },
  {
   "cell_type": "code",
   "execution_count": 63,
   "id": "9f7b61f0",
   "metadata": {},
   "outputs": [],
   "source": [
    "name=\"Bottle\""
   ]
  },
  {
   "cell_type": "code",
   "execution_count": 64,
   "id": "cfb87948",
   "metadata": {},
   "outputs": [
    {
     "name": "stdout",
     "output_type": "stream",
     "text": [
      "Good Bottle\n"
     ]
    }
   ],
   "source": [
    "print('Good', name)"
   ]
  },
  {
   "cell_type": "code",
   "execution_count": 67,
   "id": "970b5064",
   "metadata": {},
   "outputs": [
    {
     "name": "stdout",
     "output_type": "stream",
     "text": [
      "Good Bottle\n"
     ]
    }
   ],
   "source": [
    "print('Good {0}'.format(name))"
   ]
  },
  {
   "cell_type": "code",
   "execution_count": 69,
   "id": "8250da33",
   "metadata": {},
   "outputs": [
    {
     "name": "stdout",
     "output_type": "stream",
     "text": [
      "good 0 Bottle\n"
     ]
    }
   ],
   "source": [
    "print(f\"good {0}\",name)"
   ]
  },
  {
   "cell_type": "code",
   "execution_count": 70,
   "id": "974c2d06",
   "metadata": {},
   "outputs": [
    {
     "data": {
      "text/plain": [
       "'OCF EDUCATION'"
      ]
     },
     "execution_count": 70,
     "metadata": {},
     "output_type": "execute_result"
    }
   ],
   "source": [
    "s"
   ]
  },
  {
   "cell_type": "code",
   "execution_count": 72,
   "id": "45dceedc",
   "metadata": {},
   "outputs": [
    {
     "data": {
      "text/plain": [
       "0"
      ]
     },
     "execution_count": 72,
     "metadata": {},
     "output_type": "execute_result"
    }
   ],
   "source": [
    "s.index(\"O\")"
   ]
  },
  {
   "cell_type": "code",
   "execution_count": 73,
   "id": "fea7f47c",
   "metadata": {},
   "outputs": [
    {
     "data": {
      "text/plain": [
       "True"
      ]
     },
     "execution_count": 73,
     "metadata": {},
     "output_type": "execute_result"
    }
   ],
   "source": [
    "s='jonny'\n",
    "s.isalpha()"
   ]
  },
  {
   "cell_type": "code",
   "execution_count": 74,
   "id": "3acf8922",
   "metadata": {},
   "outputs": [
    {
     "data": {
      "text/plain": [
       "True"
      ]
     },
     "execution_count": 74,
     "metadata": {},
     "output_type": "execute_result"
    }
   ],
   "source": [
    "s.islower()"
   ]
  },
  {
   "cell_type": "code",
   "execution_count": 75,
   "id": "8db668f9",
   "metadata": {},
   "outputs": [
    {
     "data": {
      "text/plain": [
       "True"
      ]
     },
     "execution_count": 75,
     "metadata": {},
     "output_type": "execute_result"
    }
   ],
   "source": [
    "s.isprintable()"
   ]
  },
  {
   "cell_type": "code",
   "execution_count": 77,
   "id": "97d7c1de",
   "metadata": {},
   "outputs": [],
   "source": [
    "s=''"
   ]
  },
  {
   "cell_type": "code",
   "execution_count": 78,
   "id": "4f1cf6e2",
   "metadata": {},
   "outputs": [
    {
     "data": {
      "text/plain": [
       "False"
      ]
     },
     "execution_count": 78,
     "metadata": {},
     "output_type": "execute_result"
    }
   ],
   "source": [
    "s.isspace()"
   ]
  },
  {
   "cell_type": "code",
   "execution_count": 79,
   "id": "901dd88a",
   "metadata": {},
   "outputs": [],
   "source": [
    "s='old is gold'"
   ]
  },
  {
   "cell_type": "code",
   "execution_count": 80,
   "id": "6beaae30",
   "metadata": {},
   "outputs": [
    {
     "data": {
      "text/plain": [
       "'Old Is Gold'"
      ]
     },
     "execution_count": 80,
     "metadata": {},
     "output_type": "execute_result"
    }
   ],
   "source": [
    "s.title()"
   ]
  },
  {
   "cell_type": "code",
   "execution_count": 81,
   "id": "0fe1b9c2",
   "metadata": {},
   "outputs": [
    {
     "data": {
      "text/plain": [
       "False"
      ]
     },
     "execution_count": 81,
     "metadata": {},
     "output_type": "execute_result"
    }
   ],
   "source": [
    "s.istitle()"
   ]
  },
  {
   "cell_type": "code",
   "execution_count": 82,
   "id": "3742d4e7",
   "metadata": {},
   "outputs": [
    {
     "data": {
      "text/plain": [
       "'1Doremon 2Doremon 3Doremon 4Doremon 5'"
      ]
     },
     "execution_count": 82,
     "metadata": {},
     "output_type": "execute_result"
    }
   ],
   "source": [
    "a='Doremon '\n",
    "b='12345'\n",
    "a.join(b)"
   ]
  },
  {
   "cell_type": "code",
   "execution_count": 83,
   "id": "4e937fbb",
   "metadata": {},
   "outputs": [
    {
     "data": {
      "text/plain": [
       "'hello'"
      ]
     },
     "execution_count": 83,
     "metadata": {},
     "output_type": "execute_result"
    }
   ],
   "source": [
    "s='h_e_l_l_o'\n",
    "s.replace('_','')"
   ]
  },
  {
   "cell_type": "code",
   "execution_count": 84,
   "id": "5984154d",
   "metadata": {},
   "outputs": [
    {
     "data": {
      "text/plain": [
       "' hi guys '"
      ]
     },
     "execution_count": 84,
     "metadata": {},
     "output_type": "execute_result"
    }
   ],
   "source": [
    "s='### hi guys ####'\n",
    "s.strip('#')"
   ]
  },
  {
   "cell_type": "code",
   "execution_count": 85,
   "id": "e2a41346",
   "metadata": {},
   "outputs": [
    {
     "data": {
      "text/plain": [
       "' hi guys ####'"
      ]
     },
     "execution_count": 85,
     "metadata": {},
     "output_type": "execute_result"
    }
   ],
   "source": [
    "s.lstrip('#')"
   ]
  },
  {
   "cell_type": "code",
   "execution_count": 86,
   "id": "c5e59901",
   "metadata": {},
   "outputs": [
    {
     "data": {
      "text/plain": [
       "'### hi guys '"
      ]
     },
     "execution_count": 86,
     "metadata": {},
     "output_type": "execute_result"
    }
   ],
   "source": [
    "s.rstrip('#')"
   ]
  },
  {
   "cell_type": "code",
   "execution_count": 90,
   "id": "89dce18d",
   "metadata": {},
   "outputs": [],
   "source": [
    "s='amey,rohit,ayush,abhi'\n",
    "s=s.split(',')"
   ]
  },
  {
   "cell_type": "code",
   "execution_count": 92,
   "id": "e0bb1621",
   "metadata": {},
   "outputs": [
    {
     "data": {
      "text/plain": [
       "['amey', 'rohit', 'ayush', 'abhi']"
      ]
     },
     "execution_count": 92,
     "metadata": {},
     "output_type": "execute_result"
    }
   ],
   "source": [
    "s"
   ]
  },
  {
   "cell_type": "code",
   "execution_count": 91,
   "id": "5b8e6fc6",
   "metadata": {},
   "outputs": [
    {
     "data": {
      "text/plain": [
       "list"
      ]
     },
     "execution_count": 91,
     "metadata": {},
     "output_type": "execute_result"
    }
   ],
   "source": [
    "type(s)"
   ]
  },
  {
   "cell_type": "code",
   "execution_count": 95,
   "id": "04506c5a",
   "metadata": {},
   "outputs": [],
   "source": [
    "s='old is gold'"
   ]
  },
  {
   "cell_type": "code",
   "execution_count": 96,
   "id": "071e8849",
   "metadata": {},
   "outputs": [
    {
     "data": {
      "text/plain": [
       "'OLD IS GOLD'"
      ]
     },
     "execution_count": 96,
     "metadata": {},
     "output_type": "execute_result"
    }
   ],
   "source": [
    "s.swapcase()"
   ]
  },
  {
   "cell_type": "code",
   "execution_count": 97,
   "id": "5452e75c",
   "metadata": {},
   "outputs": [
    {
     "name": "stdout",
     "output_type": "stream",
     "text": [
      "enter your nameAyush\n"
     ]
    }
   ],
   "source": [
    "name=input('enter your name')"
   ]
  },
  {
   "cell_type": "code",
   "execution_count": 98,
   "id": "65f301a7",
   "metadata": {},
   "outputs": [
    {
     "data": {
      "text/plain": [
       "'Ayush'"
      ]
     },
     "execution_count": 98,
     "metadata": {},
     "output_type": "execute_result"
    }
   ],
   "source": [
    "name"
   ]
  },
  {
   "cell_type": "code",
   "execution_count": 101,
   "id": "04021662",
   "metadata": {},
   "outputs": [
    {
     "name": "stdout",
     "output_type": "stream",
     "text": [
      "enter your name6+6*6-9\n"
     ]
    }
   ],
   "source": [
    "name=eval(input('enter your name'))"
   ]
  },
  {
   "cell_type": "code",
   "execution_count": 102,
   "id": "39b4f2ab",
   "metadata": {},
   "outputs": [
    {
     "data": {
      "text/plain": [
       "33"
      ]
     },
     "execution_count": 102,
     "metadata": {},
     "output_type": "execute_result"
    }
   ],
   "source": [
    "name"
   ]
  },
  {
   "cell_type": "code",
   "execution_count": 103,
   "id": "00af4b79",
   "metadata": {},
   "outputs": [
    {
     "name": "stdout",
     "output_type": "stream",
     "text": [
      "enter your name6\n"
     ]
    }
   ],
   "source": [
    "name=int(input('enter your name'))"
   ]
  },
  {
   "cell_type": "code",
   "execution_count": 104,
   "id": "8b688543",
   "metadata": {},
   "outputs": [
    {
     "data": {
      "text/plain": [
       "int"
      ]
     },
     "execution_count": 104,
     "metadata": {},
     "output_type": "execute_result"
    }
   ],
   "source": [
    "type(name)"
   ]
  },
  {
   "cell_type": "code",
   "execution_count": 105,
   "id": "06f4c6a6",
   "metadata": {},
   "outputs": [
    {
     "name": "stdout",
     "output_type": "stream",
     "text": [
      "enter your name12\n"
     ]
    }
   ],
   "source": [
    "name=input('enter your name')"
   ]
  },
  {
   "cell_type": "code",
   "execution_count": 106,
   "id": "0cd4dc2d",
   "metadata": {},
   "outputs": [
    {
     "data": {
      "text/plain": [
       "'12'"
      ]
     },
     "execution_count": 106,
     "metadata": {},
     "output_type": "execute_result"
    }
   ],
   "source": [
    "name"
   ]
  },
  {
   "cell_type": "code",
   "execution_count": 107,
   "id": "889b98f6",
   "metadata": {},
   "outputs": [
    {
     "data": {
      "text/plain": [
       "str"
      ]
     },
     "execution_count": 107,
     "metadata": {},
     "output_type": "execute_result"
    }
   ],
   "source": [
    "type(name)"
   ]
  },
  {
   "cell_type": "code",
   "execution_count": null,
   "id": "9b9ef4fb",
   "metadata": {},
   "outputs": [],
   "source": []
  }
 ],
 "metadata": {
  "kernelspec": {
   "display_name": "Python 3",
   "language": "python",
   "name": "python3"
  },
  "language_info": {
   "codemirror_mode": {
    "name": "ipython",
    "version": 3
   },
   "file_extension": ".py",
   "mimetype": "text/x-python",
   "name": "python",
   "nbconvert_exporter": "python",
   "pygments_lexer": "ipython3",
   "version": "3.8.8"
  }
 },
 "nbformat": 4,
 "nbformat_minor": 5
}
